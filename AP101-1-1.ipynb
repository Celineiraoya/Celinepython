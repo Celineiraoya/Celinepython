{
 "cells": [
  {
   "cell_type": "code",
   "execution_count": 3,
   "id": "0a70d7f3",
   "metadata": {},
   "outputs": [
    {
     "name": "stdout",
     "output_type": "stream",
     "text": [
      "The value of the exchanged currency is: 85.0\n"
     ]
    }
   ],
   "source": [
    "def exchange_money(budget, exchange_rate):\n",
    "    exchanged_rate = budget * exchange_rate\n",
    "    return exchanged_rate\n",
    "\n",
    "budget_amount = 100\n",
    "exchange_rate = 0.85\n",
    "result = exchange_money(budget_amount , exchange_rate)\n",
    "print(f'The value of the exchanged currency is: {result}')\n"
   ]
  },
  {
   "cell_type": "code",
   "execution_count": null,
   "id": "cc51ebae",
   "metadata": {},
   "outputs": [],
   "source": []
  },
  {
   "cell_type": "code",
   "execution_count": null,
   "id": "edeb7eb9",
   "metadata": {},
   "outputs": [],
   "source": []
  }
 ],
 "metadata": {
  "kernelspec": {
   "display_name": "Python 3 (ipykernel)",
   "language": "python",
   "name": "python3"
  },
  "language_info": {
   "codemirror_mode": {
    "name": "ipython",
    "version": 3
   },
   "file_extension": ".py",
   "mimetype": "text/x-python",
   "name": "python",
   "nbconvert_exporter": "python",
   "pygments_lexer": "ipython3",
   "version": "3.11.5"
  }
 },
 "nbformat": 4,
 "nbformat_minor": 5
}
